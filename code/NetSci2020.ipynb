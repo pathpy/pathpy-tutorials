{
 "cells": [
  {
   "cell_type": "markdown",
   "metadata": {},
   "source": [
    "<center>\n",
    "\n",
    "## Live demo\n",
    "<img src=\"pathpy_logo.png\" alt=\"pathpy\" style=\"width: 400px;\"/>\n",
    "</center>"
   ]
  },
  {
   "cell_type": "markdown",
   "metadata": {},
   "source": [
    "<div class=\"alert alert-danger\">\n",
    "In this tutorial the alpha version of pathpy3 is used. With high probability there will be code changes! To complete this demo successfully use pathpy version v3.0.0a2!\n",
    "</div>"
   ]
  },
  {
   "cell_type": "markdown",
   "metadata": {},
   "source": [
    "**Jürgen Hackl**  \n",
    "Assistant Professor  \n",
    "School of Engineering  \n",
    "University of Liverpool, UK   \n",
    "\n",
    "**September 17 2020**"
   ]
  },
  {
   "cell_type": "markdown",
   "metadata": {},
   "source": [
    "# Table of Content\n",
    "**1 [Introducing `pathpy`](#part-1)**\n",
    "\n",
    "1.1 [Creating networks](#part-1-1)  \n",
    "1.2 [Node and Edge objects](#part-1-2)  \n",
    "1.3 [Attributes](#part-1-3)  \n",
    "1.4 [Functions](#part-1-4)\n",
    "\n",
    "**2 [Visualising networks with `pathpy`](#part-2)**\n",
    "\n",
    "2.1 [Interactive network visualisation in `jupyter`](#part-2-1)  \n",
    "2.2 [Network Layouts](#part-2-2)  \n",
    "2.3 [Plotting spatially embedded networks](#part-2-3)  \n",
    "2.4 [Plotting networks to HTML, PDF and LaTeX](#part-2-4)\n",
    "\n",
    "**3 [Temporal network analysis and visualisation in `pathpy`](#part-3)**\n",
    "\n",
    "3.1 [Creating temporal networks](#part-3-1)  \n",
    "3.2 [Calculating causal paths](#part-3-2)  \n",
    "3.3 [Time-aggregated networks](#part-3-3)  \n",
    "3.4 [Visualization of temporal networks](#part-3-4)\n",
    "\n",
    "**4 [Higher-order models of paths](#part-4)**\n",
    "\n",
    "4.1 [Path and PathCollection](#part-4-1)  \n",
    "4.2 [Creating higher-order networks](#part-4-2)  \n",
    "4.3 [Ranking nodes in higher-order networks](#part-4-3)  \n",
    "4.4 [Multi-order model selection](#part-4-4)\n",
    "\n",
    "**5 [Outlook](#part-5)**\n",
    "\n",
    "5.1 [Hypergraphs](#part-5-1)  \n",
    "5.2 [Milestones](#part-5-2)  \n",
    "5.3 [Ways to contribute](#part-5-3)  "
   ]
  },
  {
   "cell_type": "markdown",
   "metadata": {},
   "source": [
    "# 1 Introducing `pathpy`<a class=\"anchor\" id=\"part-1\"></a>\n",
    "\n",
    "1.1 [Creating networks](#part-1-1)  \n",
    "1.2 [Node and Edge objects](#part-1-2)  \n",
    "1.3 [Attributes](#part-1-3)  \n",
    "1.4 [Functions](#part-1-4)\n",
    "\n",
    "Compared to many other packages, `pathpy` has a couple of advantages. First, it is easy to install as should have no dependencies not included in a default `anaconda` installation. Second, `pathpy` has a user-friendly API that makes it easy to handle directed and undirected networks, networks with single and multiple edges, multi-layer networks or temporal networks. It also provides interactive HTML visualisations that can be directly displayed inside `jupyter` notebooks, which makes it particularly suitable for educational settings. Third, it supports the analysis and visualisation of time series data on networked systems, such as time-stamped edges or data on paths in networks.\n",
    "\n",
    "We first import `pathpy` and assign the local alias `pp`:"
   ]
  },
  {
   "cell_type": "code",
   "execution_count": null,
   "metadata": {},
   "outputs": [],
   "source": [
    "import pathpy as pp\n",
    "pp.__version__"
   ]
  },
  {
   "cell_type": "markdown",
   "metadata": {},
   "source": [
    "If the `import` statement completes without error message, the installation was successful and we can now use `pathpy` to generate, analyse, and visualise networks. \n",
    "\n",
    "## 1.1 Creating networks <a class=\"anchor\" id=\"part-1-1\"></a>\n",
    "\n",
    "For this purpose `pathpy` provides the `Network` class. Calling the constructor will return an instance that represents an empty network with no nodes and no links. By default, networks in `pathpy` are directed. If you want to create an undirected network you can pass the parameter `directed=False` in the constructor. \n",
    "\n",
    "Printing the `Network` object will give a short string summary which tells whether the network is directed or undirected, as well as the number of unique nodes and links."
   ]
  },
  {
   "cell_type": "code",
   "execution_count": null,
   "metadata": {},
   "outputs": [],
   "source": [
    "n1 = pp.Network()\n",
    "print(n1)"
   ]
  },
  {
   "cell_type": "markdown",
   "metadata": {},
   "source": [
    "A network is directed by default, but we can create an undirected network by passing the parameter `directed=False`."
   ]
  },
  {
   "cell_type": "code",
   "execution_count": null,
   "metadata": {},
   "outputs": [],
   "source": [
    "n2 = pp.Network(directed=False)\n",
    "print(n2)"
   ]
  },
  {
   "cell_type": "markdown",
   "metadata": {},
   "source": [
    "The examples above show that each network has a unique identifier. By default, this unique ID is derived from the hash value of the underlying python object, which allows you to quickly check whether two variables actually refer to the same network object. If you prefer to manage your own UIDs that are easier to remember, you can assign custom IDs by explicitly passing a uid property:"
   ]
  },
  {
   "cell_type": "code",
   "execution_count": null,
   "metadata": {},
   "outputs": [],
   "source": [
    "n = pp.Network(directed=False, uid='MyUndirectedNetwork')\n",
    "print(n)"
   ]
  },
  {
   "cell_type": "markdown",
   "metadata": {},
   "source": [
    "The simplest way to add nodes and edges is to call the functions `add_node` and `add_edge`. In both cases, we can simply pass unique string identifiers of nodes, which will then be used as UIDs of the underlying node objects. To create an undirected network with three nodes and two edges, we can write: "
   ]
  },
  {
   "cell_type": "code",
   "execution_count": null,
   "metadata": {},
   "outputs": [],
   "source": [
    "n = pp.Network(directed=False, uid='ExampleNetwork')\n",
    "n.add_node('a')\n",
    "n.add_node('b')\n",
    "n.add_node('c')\n",
    "n.add_edge('a', 'b')\n",
    "n.add_edge('b', 'c')\n",
    "print(n)"
   ]
  },
  {
   "cell_type": "code",
   "execution_count": null,
   "metadata": {},
   "outputs": [],
   "source": [
    "n"
   ]
  },
  {
   "cell_type": "markdown",
   "metadata": {},
   "source": [
    "Unless we want to explicitly add isolated nodes with no incident edges, we can omit the explicit call of the `add_node` function. If we add edges any node that does not exist already will be created and added automatically. If we want to check explicitly whether a node exists or node before creating and edge, we can test this with the `in` operator on the set of node available via `Network.nodes`:"
   ]
  },
  {
   "cell_type": "code",
   "execution_count": null,
   "metadata": {},
   "outputs": [],
   "source": [
    "'d' in n.nodes"
   ]
  },
  {
   "cell_type": "markdown",
   "metadata": {},
   "source": [
    "The following code will automatically add a new node `d`, along with a new edge from `d` to `a`."
   ]
  },
  {
   "cell_type": "code",
   "execution_count": null,
   "metadata": {},
   "outputs": [],
   "source": [
    "n.add_edge('c', 'd')\n",
    "n.add_edge('d', 'a')\n",
    "print(n)"
   ]
  },
  {
   "cell_type": "code",
   "execution_count": null,
   "metadata": {},
   "outputs": [],
   "source": [
    "'d' in n.nodes"
   ]
  },
  {
   "cell_type": "markdown",
   "metadata": {},
   "source": [
    "## 1.2 Node and Edge objects <a class=\"anchor\" id=\"part-1-2\"></a>\n",
    "\n",
    "In the simple example above, we have generated nodes and edges by calling the `add_node` and `add_edge` function of the network instance. Internally, nodes and edges are represented as objects of type `Node` and `Edge` that can be stored in one or multiple instances of type `Network`. Just like a `Network`, each instance of a `Node` and `Edge` has a UID. In the example above, `pathpy` has automatically created `Node` and `Edge` instances and has assigned the UIDs `a`, `b`, `c`, and `d` to those nodes. We can access those node objects via the node container `Network.nodes`. We can iterate through this dictionary to print a summary of all node objects:"
   ]
  },
  {
   "cell_type": "code",
   "execution_count": null,
   "metadata": {},
   "outputs": [],
   "source": [
    "for v in n.nodes:\n",
    "    print(v)"
   ]
  },
  {
   "cell_type": "markdown",
   "metadata": {},
   "source": [
    "We can also use the uid of a node to access a specific node object in a network by using the uid as an index to the `nodes` container:"
   ]
  },
  {
   "cell_type": "code",
   "execution_count": null,
   "metadata": {},
   "outputs": [],
   "source": [
    "print(n.nodes['a'])"
   ]
  },
  {
   "cell_type": "markdown",
   "metadata": {},
   "source": [
    "Importantly, the same node object can be added to multiple networks (e.g. if we want to capture that the same set of nodes is connected via different network topologies)."
   ]
  },
  {
   "cell_type": "code",
   "execution_count": null,
   "metadata": {},
   "outputs": [],
   "source": [
    "n2.add_node(n.nodes['a'])\n",
    "print(n2)"
   ]
  },
  {
   "cell_type": "markdown",
   "metadata": {},
   "source": [
    "However, each network can contain only a single node with a given uid, so the following will actually raise an Error:"
   ]
  },
  {
   "cell_type": "code",
   "execution_count": null,
   "metadata": {},
   "outputs": [],
   "source": [
    "try:\n",
    "    n.add_node('a')\n",
    "except KeyError:\n",
    "    pass"
   ]
  },
  {
   "cell_type": "markdown",
   "metadata": {},
   "source": [
    "Similar to `nodes`, the `edges` container of the network contains all edges of a network and each edge is actually stored as an `Edge` object. Let us iterate through the edges container of network n to better understand this:"
   ]
  },
  {
   "cell_type": "code",
   "execution_count": null,
   "metadata": {},
   "outputs": [],
   "source": [
    "for e in n.edges:\n",
    "    print('---')\n",
    "    print(e)"
   ]
  },
  {
   "cell_type": "markdown",
   "metadata": {},
   "source": [
    "The confirms that the edge container contains one instance of `Edge` for each edge that we added before. Each `Edge` has again a unique identifier, which has been automatically assigned in our example above. Just like for `Node` or `Network` objects, we can manually create an edge object with a custom UID as follows. To create an edge with a different UID that connects node 'd' and 'e' we write:"
   ]
  },
  {
   "cell_type": "code",
   "execution_count": null,
   "metadata": {},
   "outputs": [],
   "source": [
    "n.add_edge('d','e',uid='MyEdge')"
   ]
  },
  {
   "cell_type": "markdown",
   "metadata": {},
   "source": [
    "We might want to add a different edge between two edges in the same network. The default network object generated by `pathpy` does not allow that"
   ]
  },
  {
   "cell_type": "code",
   "execution_count": null,
   "metadata": {},
   "outputs": [],
   "source": [
    "try:\n",
    "    n.add_edge('d','e',uid='AnOtherEdge')\n",
    "except KeyError:\n",
    "    pass"
   ]
  },
  {
   "cell_type": "markdown",
   "metadata": {},
   "source": [
    "To do that we have to pass the multi-edge parameter in the creation of the network.  `Network`."
   ]
  },
  {
   "cell_type": "code",
   "execution_count": null,
   "metadata": {},
   "outputs": [],
   "source": [
    "n_multi = pp.Network(directed=False, uid='ExampleNetwork', multiedges = True)\n",
    "for e in n.edges:\n",
    "    n_multi.add_edge(e)"
   ]
  },
  {
   "cell_type": "markdown",
   "metadata": {},
   "source": [
    "After specifying the multi-edge parameter we can add the edge with a different UID that connects node 'd' and 'e':"
   ]
  },
  {
   "cell_type": "code",
   "execution_count": null,
   "metadata": {},
   "outputs": [],
   "source": [
    "n_multi.add_edge('d','e',uid='AnOtherEdge')"
   ]
  },
  {
   "cell_type": "code",
   "execution_count": null,
   "metadata": {},
   "outputs": [],
   "source": [
    "print(n_multi)"
   ]
  },
  {
   "cell_type": "markdown",
   "metadata": {},
   "source": [
    "The summary of the network confirms that the network now contains six edges (between five pairs of nodes). This native support for multi-edge networks is an important feature of `pathpy`. It also means that every pair of nodes can be connected by more than one edge. We can access those edges via the `Network.edges` container in multiple ways. First, we can simply iterate through the edge objects as shown before. Second, we can directly access an `Edge` with a given UID as follows:"
   ]
  },
  {
   "cell_type": "code",
   "execution_count": null,
   "metadata": {},
   "outputs": [],
   "source": [
    "print(n_multi.edges['MyEdge'])"
   ]
  },
  {
   "cell_type": "markdown",
   "metadata": {},
   "source": [
    "Finally, we often want to access those edges that connect a specific pair of nodes. We can thus pass a pair of node uids as index to `Network.edges`. However, since multiple edges between the same pair of nodes are possible, this returns a list of Edge objects, which - in the case of the node pair `a` and `b` contains two elements:"
   ]
  },
  {
   "cell_type": "code",
   "execution_count": null,
   "metadata": {},
   "outputs": [],
   "source": [
    "print(n_multi.edges['d', 'e'])"
   ]
  },
  {
   "cell_type": "markdown",
   "metadata": {},
   "source": [
    "## 1.3 Attributes <a class=\"anchor\" id=\"part-1-3\"></a>\n",
    "\n",
    "You may wonder why `pathpy` stores nodes and edges as objects rather than as simple strings or numbers. The reason is that we often want to use networks to model relational data that contains additional information on nodes, edges, or networks. To support this, all `pathpy` objects can store arbitrary key-value data in the form of attributes. Let's explore this in a toy example for a social network:"
   ]
  },
  {
   "cell_type": "code",
   "execution_count": null,
   "metadata": {},
   "outputs": [],
   "source": [
    "trolls = pp.Network(uid='Trolls')\n",
    "trolls.add_node('t', name= 'Tom',age=156)\n",
    "trolls.add_node('b', name= 'Bert',age=96)\n",
    "trolls.add_node('w', name= 'William',age=323)\n",
    "trolls.add_edge('t', 'b', uid='t-b',strength=2.0)\n",
    "trolls.add_edge('t', 'w', uid='t-w',strength=5.0)\n",
    "print(trolls)"
   ]
  },
  {
   "cell_type": "markdown",
   "metadata": {},
   "source": [
    "Just like nodes, `Edge` objects can store arbitrary attributes that we can read and write via the `edges` dictionary in the `Network` class. We can store attributes as follows:"
   ]
  },
  {
   "cell_type": "code",
   "execution_count": null,
   "metadata": {},
   "outputs": [],
   "source": [
    "trolls.edges['t-b']['type'] = 'like'\n",
    "trolls.edges['t-w']['type'] = 'dislike'"
   ]
  },
  {
   "cell_type": "code",
   "execution_count": null,
   "metadata": {},
   "outputs": [],
   "source": [
    "print(trolls.edges['t-b'].attributes)\n",
    "print(trolls.edges['t-w'].attributes)"
   ]
  },
  {
   "cell_type": "markdown",
   "metadata": {},
   "source": [
    "Numerical properties of edges are often used to store the strength or weight of interactions in a system. Such numerical property can also be considered in the degree calculation. Above, we have a directed network, so we can use the `indegrees()` and `outdegrees()` function to access the directed degrees of nodes. In our example, Tom has an outdegree of two since there are two directed edges to Bert and William:"
   ]
  },
  {
   "cell_type": "code",
   "execution_count": null,
   "metadata": {},
   "outputs": [],
   "source": [
    "trolls.outdegrees()['t']"
   ]
  },
  {
   "cell_type": "markdown",
   "metadata": {},
   "source": [
    "To additionally consider numerical attributes in the degree calculation, we can use the weight parameter of the degrees(), indegrees() or outdegrees() functions. To calculate the total strength of all outgoing edges from Tom we can write:"
   ]
  },
  {
   "cell_type": "code",
   "execution_count": null,
   "metadata": {},
   "outputs": [],
   "source": [
    "trolls.outdegrees(weight='strength')['t']"
   ]
  },
  {
   "cell_type": "markdown",
   "metadata": {},
   "source": [
    "## 1.3 Functions <a class=\"anchor\" id=\"part-1-4\"></a>\n",
    "\n",
    "### Adjacency matrices\n",
    "\n",
    "Adjacency matrices are an important mathematical representation of networks. The topology of a matrix is represented in terms of a matrix A, where an entry A[i,j]=1 indicates that an edge exists from the i-th to the j-th node of the network. The absence of edges is encoded by zero entries. The size of an adjacency matrix representation of a network with n nodes is generally $n^2$, which is not suitable for networks with thousands or millions of nodes. `pathpy` nevertheless supports efficient adjacency matrix calculation for *sparse* networks, i.e. networks where the majority of node pairs are not connected by an edge. Instead of a fully populated matrix, a call to `Network.adjacency_matrix()` returns a *sparse matrix object*, i.e. an efficient representation of the indices and values of non-zero entries:"
   ]
  },
  {
   "cell_type": "code",
   "execution_count": null,
   "metadata": {},
   "outputs": [],
   "source": [
    "print(trolls.adjacency_matrix())"
   ]
  },
  {
   "cell_type": "markdown",
   "metadata": {},
   "source": [
    "The adjacency matrix entries above shows that two edges from Tom to Bert and from Tom to William exist. Moreover, the fact that the matrix is assymetric tells us that this is a directed network. By default, a binary matrix representation is returned where entries store the presence or absence of edges as 0 or 1 entries. If we want to use numerical attributes of edges instead, we can again pass the name of a numerical attribute that should be used as edge `weight`:"
   ]
  },
  {
   "cell_type": "code",
   "execution_count": null,
   "metadata": {},
   "outputs": [],
   "source": [
    "print(trolls.adjacency_matrix(weight='strength'))"
   ]
  },
  {
   "cell_type": "markdown",
   "metadata": {},
   "source": [
    "### Betweenness Centrality\n",
    "\n",
    "If we want a centrality measure that considers the topology of links (and not only the number of links incident to nodes) we can measure the betweenness centrality."
   ]
  },
  {
   "cell_type": "code",
   "execution_count": null,
   "metadata": {},
   "outputs": [],
   "source": [
    "trolls.add_edge('a', 't', uid='a-t',strength=1.0)"
   ]
  },
  {
   "cell_type": "code",
   "execution_count": null,
   "metadata": {},
   "outputs": [],
   "source": [
    "trolls.betweenness_centrality()"
   ]
  },
  {
   "cell_type": "markdown",
   "metadata": {},
   "source": [
    "or via `algorithms`:"
   ]
  },
  {
   "cell_type": "code",
   "execution_count": null,
   "metadata": {},
   "outputs": [],
   "source": [
    "pp.algorithms.centralities.betweenness_centrality(trolls)"
   ]
  },
  {
   "cell_type": "markdown",
   "metadata": {},
   "source": [
    "# 2 Visualising networks with `pathpy`<a class=\"anchor\" id=\"part-2\"></a>\n",
    "\n",
    "2.1 [Interactive network visualisation in `jupyter`](#part-2-1)  \n",
    "2.2 [Network Layouts](#part-2-2)  \n",
    "2.3 [Plotting spatially embedded networks](#part-2-3)  \n",
    "2.4 [Plotting networks to HTML, PDF and LaTeX](#part-2-4)\n",
    "\n",
    "A key feature of `pathpy` is its support for custiumizable interactive visualisations that can be embedded in jupyter notebooks or stored as stand-alone files. In the following, we show this functionality in some toy exammples before moving to real data sets in the next unit. We first import `pathpy` as usual."
   ]
  },
  {
   "cell_type": "markdown",
   "metadata": {},
   "source": [
    "## 2.1 Interactive network visualisation in `jupyter` <a class=\"anchor\" id=\"part-2-1\"></a>\n",
    "\n",
    "We first create a simple toy example by adding two edges between three nodes."
   ]
  },
  {
   "cell_type": "code",
   "execution_count": null,
   "metadata": {},
   "outputs": [],
   "source": [
    "n = pp.Network(directed=False)\n",
    "n.add_edges(('a', 'b'), ('b', 'c'))\n",
    "print(n)"
   ]
  },
  {
   "cell_type": "markdown",
   "metadata": {},
   "source": [
    "Calling the `print` function on a network instance will generate a string representation that can be printed on the console. The simplest way to graphically visualise the network in a jupyter notebook is to simply type the variable name of the network:"
   ]
  },
  {
   "cell_type": "code",
   "execution_count": null,
   "metadata": {},
   "outputs": [],
   "source": [
    "n"
   ]
  },
  {
   "cell_type": "markdown",
   "metadata": {},
   "source": [
    "This will create an interactive HTML visualisation of the network, where we can zoom, pan, and drag nodes. The same visualisation is generated if we explicitly call the function `plot` on the network instance. Try to zoom and pan the network (by holding the shift key and using the mouse/mouse wheel). Try what happens if you drag a node and release the mouse button. Try to search for a node with a specific uid or name:"
   ]
  },
  {
   "cell_type": "code",
   "execution_count": null,
   "metadata": {},
   "outputs": [],
   "source": [
    "n.plot()"
   ]
  },
  {
   "cell_type": "markdown",
   "metadata": {},
   "source": [
    "Using the two top-left buttons in the visualisation you can export the current view of the network as a SVG vector graphics or a PNG pixel graphics file. By default a default style is applied to the network but pathpy allows to fully style the network based on (i) node and edge attributes that are automatically considered in the visualisation, or (ii) a custom style dictionary that can be passed to the plot function. If we want to change the color of nodes we can simply assign a color attribute to the nodes:"
   ]
  },
  {
   "cell_type": "code",
   "execution_count": null,
   "metadata": {},
   "outputs": [],
   "source": [
    "n.nodes['a']['color'] = 'red'\n",
    "n.nodes['b']['color'] = 'green'\n",
    "n.nodes['c']['color'] = 'blue'\n",
    "n.plot()"
   ]
  },
  {
   "cell_type": "markdown",
   "metadata": {},
   "source": [
    "We can additionally change the size of the nodes as follows:"
   ]
  },
  {
   "cell_type": "code",
   "execution_count": null,
   "metadata": {},
   "outputs": [],
   "source": [
    "n.nodes['a']['size'] = 20\n",
    "n.nodes['b']['size'] = 10\n",
    "n.nodes['c']['size'] = 20\n",
    "n.plot()"
   ]
  },
  {
   "cell_type": "markdown",
   "metadata": {},
   "source": [
    "An alternative method to style the network is by means of a key-value arguments with node and edge properties that are passed to the plot function. We can either assign the same property to all nodes, or we can assign different properties to different nodes based on a dictionary:"
   ]
  },
  {
   "cell_type": "code",
   "execution_count": null,
   "metadata": {},
   "outputs": [],
   "source": [
    "n.plot(node_color='red', node_size=10)"
   ]
  },
  {
   "cell_type": "markdown",
   "metadata": {},
   "source": [
    "A better way to manage plot styles is to store all styles in a dictionary, whose entries are then passed to the plot function using the kwargs operator **. A major advantage of this is that we can store the plot style and apply the same style to multiple networks or to visualisations in multiple formats."
   ]
  },
  {
   "cell_type": "code",
   "execution_count": null,
   "metadata": {},
   "outputs": [],
   "source": [
    "plot_style = {\n",
    "    'node_color': {'a': 'orange', 'b': 'blue', 'c': 'red'}, \n",
    "    'node_size': {'a': 30, 'b': 10, 'c': 20},\n",
    "}\n",
    "n.plot(**plot_style)"
   ]
  },
  {
   "cell_type": "markdown",
   "metadata": {},
   "source": [
    "In any case, the plot parameters passed explicitly to the plot function will take preference over any node or edge properties. To conclude this section, let us plot a few networks that we read from our database file."
   ]
  },
  {
   "cell_type": "code",
   "execution_count": null,
   "metadata": {},
   "outputs": [],
   "source": [
    "# n = pp.io.sql.read_network(filename='networks.db', table='gentoo', directed=True)\n",
    "# n.plot(node_size=5,label_enabled=False,edge_color='gray')"
   ]
  },
  {
   "cell_type": "markdown",
   "metadata": {},
   "source": [
    "## 2.2 Network Layouts <a class=\"anchor\" id=\"part-2-2\"></a>\n",
    "\n",
    "An important question in the drawing of networks is where nodes are placed. The positioning of nodes determines whether it is easy to spot patterns in the topology of the network. As a general rule, good network visualisations should have a small number of crossing edges and nodes should be placed away from each other such that we can easily distinguish them. If we make no other effort, pathpy will automatically use a simple, interactive force-directed layout algorithm. It is based on the idea that nodes connected by an edge are moved towards each other by an attractive force, while an additional repulsive force between all node pairs makes sure that nodes are not drawn on top pf each other. The simulation of those forces, and the computation of a steady-state of the resulting many-particle system is what determines the node positions in the default pathpy visualisation. Also, this is the basis upon which nodes move if you disturb the visualisation by dragging around nodes.\n",
    "\n",
    "While the default layout algorithm makes it simple to visualise networks, it has the disadvantage that the layout is actually calculated in JavaScript. This means that the positions of nodes are actually not stored in python, which makes it impossible to influence (or store) node positions from python. To solve this issue, `pathpy` provides a `layout` module that can be used to precompute node positions based on different layout algorithms. Moreover, it allows to manually optimise the parameters of those algorithms to generate a nice visualisation.\n",
    "\n",
    "The styling of node positions via a layout style follows the same idea like the styling of plots via a plot style. We can store the parameters in a dictionary and pass them to the `layout` function using the ** operator. To compute ode positions based on a certain number of iterations of the Fruchterman-Reingold algorithm with a specific force value we can write:"
   ]
  },
  {
   "cell_type": "code",
   "execution_count": null,
   "metadata": {},
   "outputs": [],
   "source": [
    "layout_style = {}\n",
    "layout_style[\"node_size\"] = 2\n",
    "layout_style['layout'] = 'Fruchterman-Reingold'\n",
    "layout_style['force'] = 0.2\n",
    "layout_style['iterations'] = 500\n",
    "layout = pp.layout(n, **layout_style)\n",
    "print(layout)"
   ]
  },
  {
   "cell_type": "markdown",
   "metadata": {},
   "source": [
    "This computes a dictionary of node positions, where the node uids are the keys and two-dimensional coordinates are the values. We can now pass this specific layout to the plot function of the network. This will disable the interactive layout in JavaScript, fixing the node positions to the precalculated layout:"
   ]
  },
  {
   "cell_type": "code",
   "execution_count": null,
   "metadata": {},
   "outputs": [],
   "source": [
    "plot_style = {\n",
    "    'node_size': 5,\n",
    "    'edge_color': \"grey\",\n",
    "    'label_enabled':False\n",
    "}\n",
    "\n",
    "\n",
    "pp.plot(n, **plot_style, layout=layout)"
   ]
  },
  {
   "cell_type": "markdown",
   "metadata": {},
   "source": [
    "## 2.3 Plotting spatially embedded networks <a class=\"anchor\" id=\"part-2-3\"></a>\n",
    "\n",
    "Layout algorithms are important to visualise networks where nodes are not naturally embedded in a space. However, for a number of complex networks we can naturally assign coordinates to nodes. Examples include infrastructure networks like road, train, or flight networks where we have information on geographic coordinates of road junctions, train stations, or airports. We do not need a layout algorithm to calculate node positions, we can use node coordinates instead, which we can assign to the node attributes:"
   ]
  },
  {
   "cell_type": "code",
   "execution_count": null,
   "metadata": {},
   "outputs": [],
   "source": [
    "n = pp.Network() \n",
    "\n",
    "n.add_node(\"a\",coordinates=[0,0],color='orange',size=30)\n",
    "n.add_node(\"b\",coordinates=[0,1],color='blue',size=10)\n",
    "n.add_node(\"c\",coordinates=[1,0],color='red',size=20)\n",
    "\n",
    "n.add_edge(\"a\", \"b\")\n",
    "n.add_edge(\"b\", \"c\")\n",
    "\n",
    "plot_style = {\n",
    "}\n",
    "n.plot(**plot_style)"
   ]
  },
  {
   "cell_type": "markdown",
   "metadata": {},
   "source": [
    "## 2.4 Plotting networks to HTML, PDF and LaTeX <a class=\"anchor\" id=\"part-2-4\"></a>\n",
    "\n",
    "While it is convenient to interactively plot networks in a jupyter network, we often want to generate stand-alone visualisations that we can either share or embed in scientific publications. Apart from the possibility to directly export PNG and SVG visualisations from the interactive HTML widget, the plot function can be used to generate a stand-alone HTML visualisation of the network that can be opened in any browser and shared on the Web."
   ]
  },
  {
   "cell_type": "code",
   "execution_count": null,
   "metadata": {},
   "outputs": [],
   "source": [
    "n.plot( filename='network.html', **plot_style) "
   ]
  },
  {
   "cell_type": "markdown",
   "metadata": {},
   "source": [
    "If you want a vector graphics figure that can be embedded in a scientific paper, you can use the plot function to export network visualisations as PDF:"
   ]
  },
  {
   "cell_type": "code",
   "execution_count": null,
   "metadata": {
    "scrolled": true
   },
   "outputs": [],
   "source": [
    "n.plot(filename='network.pdf',**plot_style)"
   ]
  },
  {
   "cell_type": "markdown",
   "metadata": {},
   "source": [
    "An interesting feature of pathpy is that it builds on the package `tikz-network`, a powerful framework to draw graphs in LaTeX. If we want to generate a visualisation in which we retain the full power to style the network in LaTeX, we can export the network as a tex file that can be build with a LaTeX compiler:"
   ]
  },
  {
   "cell_type": "code",
   "execution_count": null,
   "metadata": {},
   "outputs": [],
   "source": [
    "n.plot(filename='network.tex', **plot_style)"
   ]
  },
  {
   "cell_type": "markdown",
   "metadata": {},
   "source": [
    "# 3 Temporal network analysis and visualisation in `pathpy`<a class=\"anchor\" id=\"part-3\"></a>\n",
    "\n",
    "3.1 [Creating temporal networks](#part-3-1)  \n",
    "3.2 [Calculating causal paths](#part-3-2)  \n",
    "3.3 [Time-aggregated networks](#part-3-3)  \n",
    "3.4 [Visualization of temporal networks](#part-3-4)"
   ]
  },
  {
   "cell_type": "markdown",
   "metadata": {},
   "source": [
    "## 3.1 Creating temporal networks <a class=\"anchor\" id=\"part-3-1\"></a>\n",
    "\n",
    "`pathpy` provides special support for the analysis of temporal networks data via its `TemporalNetwork` class. It is suitable for data that captures time-stamped edges  `(v,w,t)`  instantaneously occurring at discrete time stamps  `t`. Let us start by creating an empty instance of this class."
   ]
  },
  {
   "cell_type": "code",
   "execution_count": null,
   "metadata": {},
   "outputs": [],
   "source": [
    "t = pp.TemporalNetwork()\n",
    "print(t)"
   ]
  },
  {
   "cell_type": "markdown",
   "metadata": {},
   "source": [
    "Let us add some time-stamped edges to this instance."
   ]
  },
  {
   "cell_type": "code",
   "execution_count": null,
   "metadata": {},
   "outputs": [],
   "source": [
    "t.add_edge('a', 'b', t=1)\n",
    "t.add_edge('b', 'a', t=3)\n",
    "t.add_edge('b', 'c', t=3)\n",
    "t.add_edge('d', 'c', t=4)\n",
    "t.add_edge('c', 'd', t=5)\n",
    "t.add_edge('c', 'b', t=6)\n",
    "print(t)"
   ]
  },
  {
   "cell_type": "markdown",
   "metadata": {},
   "source": [
    "We get basic summary statistics, such as the number of time-stamped interactions, the minimum and maximum timestamp, the duration of the observation, the number of different timestamps, as well as the average, minimum, and maximum time difference between consecutive time-stamped edges."
   ]
  },
  {
   "cell_type": "markdown",
   "metadata": {},
   "source": [
    "Just like other pathpy objects, we can directly embed interactive visualisations of a TemporalNetwork in-line in jupyter. Let us try this with our first example instance t."
   ]
  },
  {
   "cell_type": "code",
   "execution_count": null,
   "metadata": {},
   "outputs": [],
   "source": [
    "t"
   ]
  },
  {
   "cell_type": "markdown",
   "metadata": {},
   "source": [
    "## 3.2 Calculating causal paths <a class=\"anchor\" id=\"part-3-2\"></a>"
   ]
  },
  {
   "cell_type": "code",
   "execution_count": null,
   "metadata": {},
   "outputs": [],
   "source": [
    "dag = pp.DirectedAcyclicGraph.from_temporal_network(t,delta=1)\n",
    "print(dag)"
   ]
  },
  {
   "cell_type": "code",
   "execution_count": null,
   "metadata": {},
   "outputs": [],
   "source": [
    "node_mapping = {node.uid:node['original'].uid for node in dag.nodes}\n",
    "print(node_mapping)"
   ]
  },
  {
   "cell_type": "code",
   "execution_count": null,
   "metadata": {},
   "outputs": [],
   "source": [
    "colors = {'a': 'red', 'b': 'blue', 'c': 'cyan', 'd': 'orange'}\n",
    "node_colors = { v: colors[node_mapping[v]] for v in node_mapping }\n",
    "dag.plot(node_color=node_colors)"
   ]
  },
  {
   "cell_type": "markdown",
   "metadata": {},
   "source": [
    "## 3.3 Time-aggregated networks <a class=\"anchor\" id=\"part-3-3\"></a>"
   ]
  },
  {
   "cell_type": "code",
   "execution_count": null,
   "metadata": {},
   "outputs": [],
   "source": [
    "pp.Network.from_temporal_network(t)"
   ]
  },
  {
   "cell_type": "code",
   "execution_count": null,
   "metadata": {},
   "outputs": [],
   "source": [
    "p = t.to_paths()\n",
    "pp.Network.from_paths(p)"
   ]
  },
  {
   "cell_type": "markdown",
   "metadata": {},
   "source": [
    "## 3.4 Visualization of temporal networks <a class=\"anchor\" id=\"part-3-4\"></a>\n",
    "\n",
    "We get a similar plot as observed by the static networks, however with an additional menu bar and time slider. When we click play, nothing happens since we only consider one temporal edge. To see some changes we have to add another edge.\n"
   ]
  },
  {
   "cell_type": "code",
   "execution_count": null,
   "metadata": {},
   "outputs": [],
   "source": [
    "t = pp.TemporalNetwork(directed=False)\n",
    "t.add_node('a',color='red',size=10)\n",
    "t.add_node('b',color='blue',size=15)\n",
    "t.add_node('c',color='pink',size=12)\n",
    "t.add_edge('a','b',color='green',size=4,begin=0,end=10)\n",
    "t.add_edge('b','c',begin=7,end=15)\n",
    "# t"
   ]
  },
  {
   "cell_type": "code",
   "execution_count": null,
   "metadata": {},
   "outputs": [],
   "source": [
    "t.nodes['a'].update(color='green',size=20,t=5)\n",
    "t.edges['a','b'].update(color='gray',size=2,t=4)\n",
    "t"
   ]
  },
  {
   "cell_type": "markdown",
   "metadata": {},
   "source": [
    "# 4 Higher-order models of paths <a class=\"anchor\" id=\"part-4\"></a>\n",
    "\n",
    "4.1 [Path and PathCollection](#part-4-1)  \n",
    "4.2 [Creating higher-order networks](#part-4-2)  \n",
    "4.3 [Ranking nodes in higher-order networks](#part-4-3)  \n",
    "4.4 [Multi-order model selection](#part-4-4)\n",
    "\n",
    "So far, we have focused on network models, but the real **purpose of `pathpy` is to fit and analyse higher-order models for paths in complex networks**. We will delve in higher order models in a moment in a moment, first we are going to focus on paths, the basic building block for the construction of Higher Order Networks."
   ]
  },
  {
   "cell_type": "markdown",
   "metadata": {},
   "source": [
    "## 4.1 Path and PathCollection <a class=\"anchor\" id=\"part-4-1\"></a>\n",
    "\n",
    "Like nodes and edges, in pathpy also paths are represented through objects using the `path` class.\n",
    "A path is a collection of consecutive edge objects and can be created as follows."
   ]
  },
  {
   "cell_type": "code",
   "execution_count": null,
   "metadata": {},
   "outputs": [],
   "source": [
    "a = pp.Node(\"a\")\n",
    "b = pp.Node(\"b\")\n",
    "c = pp.Node(\"c\")\n",
    "\n",
    "ab = pp.Edge(a,b,uid='a-b')\n",
    "bc = pp.Edge(b,c,uid='b-c')\n",
    "\n",
    "p = pp.Path(ab,bc,uid='a-b-c')\n",
    "print(p)"
   ]
  },
  {
   "cell_type": "markdown",
   "metadata": {},
   "source": [
    "Multiple paths can be grouped in a `PathCollection` object, this represents observed transitions (sequences) over the nodes of a network."
   ]
  },
  {
   "cell_type": "code",
   "execution_count": null,
   "metadata": {},
   "outputs": [],
   "source": [
    "paths = pp.PathCollection()\n",
    "paths.add(p, frequency = 20)"
   ]
  },
  {
   "cell_type": "markdown",
   "metadata": {},
   "source": [
    "We can inspect the Path objects contained in a path collection"
   ]
  },
  {
   "cell_type": "code",
   "execution_count": null,
   "metadata": {},
   "outputs": [],
   "source": [
    "for path in paths:\n",
    "    print(path.uid, \":\" , path.nodes)"
   ]
  },
  {
   "cell_type": "markdown",
   "metadata": {},
   "source": [
    "We can access the path objects in the path collection through their uid, nodes or edges"
   ]
  },
  {
   "cell_type": "code",
   "execution_count": null,
   "metadata": {},
   "outputs": [],
   "source": [
    "print(paths['a-b-c'],'\\n')\n",
    "print(paths['a','b','c'],'\\n')\n",
    "print(paths['a-b','b-c'])"
   ]
  },
  {
   "cell_type": "markdown",
   "metadata": {},
   "source": [
    "The method outlined above was rather cumbersome. Indeed Path collections can be created more conveniently by directly passing paths as sequences of node uids to the path collection object"
   ]
  },
  {
   "cell_type": "code",
   "execution_count": null,
   "metadata": {},
   "outputs": [],
   "source": [
    "paths = pp.PathCollection()\n",
    "paths.add('a','c','d',uid='acd',frequency=10)\n",
    "paths.add('b','c','e',uid='bce',frequency=10)\n",
    "print(paths)"
   ]
  },
  {
   "cell_type": "markdown",
   "metadata": {},
   "source": [
    "## 4.2 Creating higher-order networks <a class=\"anchor\" id=\"part-4-2\"></a>"
   ]
  },
  {
   "cell_type": "markdown",
   "metadata": {},
   "source": [
    "From a higher-order network analytic point of view, standard graphs or networks are **first-order probabilistic generative models** for paths in complex networks. As we have seen in 1.2, they can be viewed as **maximum entropy models that consider first-order dyad statistics** (i.e. edge frequencies), while ignoring higher-order dependencies in the real-world path, sequence, or time-series data.\n",
    "\n",
    "In the following works, we have studied measures for higher-order correlations in such data and we generalised network models to higher-order models with arbitrary order:\n",
    "\n",
    "- R Pfitzner, I Scholtes, A Garas, CJ Tessone, F Schweitzer: **Betweenness Preference: Quantifying Correlations in the Topological Dynamics of Temporal Networks**, In Physical Review Letters, May 2013, [arXiv 1208.0588](http://arxiv.org/abs/1208.0588)\n",
    "\n",
    "- I Scholtes, N Wider, R Pfitzner, A Garas, CJ Tessone, F Schweitzer: **Causality-driven slow-down and speed-up of diffusion in non-Markovian temporal networks**, In Nature Communications, September 2014, [arXiv 1307.4030](http://arxiv.org/abs/1307.4030)\n",
    "\n",
    "- I Scholtes, N Wider, A Garas: **Higher-Order Aggregate Networks in the Analysis of Temporal Networks: Path structures and centralities**, In The European Physical Journal B, March 2016, [arXiv 1508.06467](http://arxiv.org/abs/1508.06467) \n",
    "\n",
    "- I Scholtes: **When is a Network a Network? Multi-Order Graphical Model Selection in Pathways and Temporal Networks**, In KDD'17, February 2017, [arXiv 1702.05499](https://arxiv.org/abs/1702.05499)\n",
    "\n",
    "A broader overview of the research on higher-order models for complex systems is available in the following article:\n",
    "\n",
    "- R Lambiotte, M Rosvall, I Scholtes: **From Networks to Optimal Higher-Order Models of Complex Systems**, Nature Physics, March 2019,  [arXiv 1806.05977](https://arxiv.org/abs/1806.05977)"
   ]
  },
  {
   "cell_type": "markdown",
   "metadata": {},
   "source": [
    "The data analysis and modelling framework outlined in these works build on a generalisation of standard, first-order networks to $k$-dimensional De Bruijn graph models for paths in complex networks.\n",
    "\n",
    "The class `HigherOrderNetwork` allows us to generate such higher-order network models of paths. In the documentation, we find that the constructor takes a parameter `network`, i.e. the network with the observed paths we want to model. With the setting `order` we specify the order of the higher-order model that we want to fit. To understand this better, let us do this for our toy example."
   ]
  },
  {
   "cell_type": "code",
   "execution_count": null,
   "metadata": {
    "scrolled": true
   },
   "outputs": [],
   "source": [
    "hon_1 = pp.HigherOrderNetwork.from_paths(paths,order=1)\n",
    "print(hon_1)"
   ]
  },
  {
   "cell_type": "markdown",
   "metadata": {},
   "source": [
    "This generates a first-order model of our paths, with five nodes `a`,`b`,`c`,`d` and `e`, and four links `a-c`, `b-c`, `c-d` and `c-e`. It is identically to the `Network` instance that we have previously created. Indeed, each `HigherOrderNetwork` instance is derived from the class `Network`, which means we can store edge and node attributes and visualise it by precisely the same methods."
   ]
  },
  {
   "cell_type": "code",
   "execution_count": null,
   "metadata": {
    "scrolled": true
   },
   "outputs": [],
   "source": [
    "hon_1"
   ]
  },
  {
   "cell_type": "code",
   "execution_count": null,
   "metadata": {
    "scrolled": true
   },
   "outputs": [],
   "source": [
    "for edge in hon_1.edges:\n",
    "    print(edge,edge['frequency'])"
   ]
  },
  {
   "cell_type": "markdown",
   "metadata": {},
   "source": [
    "This output confirms that a `HigherOrderModel` with `order=1` is identical to our `Network` model. We can see this network as a **first-order model** for paths where **edges are paths of length one**. That is, in a model with order `order=1` edge weights capture the statistics of paths of `length=1`.\n",
    "\n",
    "We can generalise this idea to **k-th-order models** for paths, where **nodes are paths of length $k-1$** while **edge weights capture the statistics of paths of length $k$**. We can generate such a $k$-th order model by performing a line graph transformation on a model with order $k-1$. That is, edges in the model of order $k-1$ become nodes in the model with order $k$. We then draw edges between higher-order nodes whenever there is a possible path of length $k$ in the underlying network. The result is a $k$-dimensional De Bruijn graph model for paths. Let us try this in our example."
   ]
  },
  {
   "cell_type": "code",
   "execution_count": null,
   "metadata": {},
   "outputs": [],
   "source": [
    "#hon_2 = pp.HigherOrderNetwork.from_paths(paths,order=2)\n",
    "hon_2 = pp.HigherOrderNetwork(order=2)\n",
    "hon_2.fit(paths)\n",
    "print(hon_2)"
   ]
  },
  {
   "cell_type": "code",
   "execution_count": null,
   "metadata": {},
   "outputs": [],
   "source": [
    "hon_2"
   ]
  },
  {
   "cell_type": "code",
   "execution_count": null,
   "metadata": {},
   "outputs": [],
   "source": [
    "for edge in hon_2.edges:\n",
    "    print(edge,edge['frequency'])"
   ]
  },
  {
   "cell_type": "markdown",
   "metadata": {},
   "source": [
    "Each of the four **edges** in the first-order model is now represented by a **node** in the second-order model. We further have two directed edges `a-c-d` and `b-c-e` that represent the two paths of length two that occur in our data.\n",
    "\n",
    "This is important because it captures to what extent the paths that we observe in our data deviate from what we would expect based on the (first-order) network topology of the system. Considering such a first-order model, all four paths `a-c-d`, `a-c-e`,`b-c-d`, and `b-c-e` of length two are possible. If edges were statistically independent, we would expect those four paths to occur with the same frequency.\n",
    "\n",
    "Another way to express this independence assumption is to consider Markov chain models for the sequences of nodes traversed by a path. In this view, independently occurring edges translate to a memoryless first-order Markov process for the node sequence. In our example, we expect paths `a-c-d` and `a-c-e` to occur with the same probability, i.e. the next nodes `d` or `e` on a path through `c` are independent of the previous node `a`, their probabilities only depending on the relative frequency of edges `c-d` vs `c-e`. In our toy example, we have a total of 20 observed paths of length two, so we expect each of the path to occur five times on average.\n",
    "\n",
    "`pathpy` can actually generate this **null-model** for paths within the space of possible second-order models. This allows us to compare how the observed path statistics deviate from a (Markovian) expectation."
   ]
  },
  {
   "cell_type": "code",
   "execution_count": null,
   "metadata": {},
   "outputs": [],
   "source": [
    "hon_2_null = pp.NullModel.from_paths(paths,order=2)"
   ]
  },
  {
   "cell_type": "code",
   "execution_count": null,
   "metadata": {},
   "outputs": [],
   "source": [
    "for edge in hon_2_null.edges:\n",
    "    print(edge,edge['frequency'])"
   ]
  },
  {
   "cell_type": "markdown",
   "metadata": {},
   "source": [
    "## 4.3 Ranking nodes in higher-order networks <a class=\"anchor\" id=\"part-4-3\"></a>\n",
    "\n",
    "Higher-order models capture deviations from the transitivity assumption that we often implicitly make when we apply standard graph mining or network analysis techniques. An important class of methods that rely on this assumption are centrality measures, which are often used to rank nodes in networked systems.\n",
    "\n",
    "Let us consider the betweenness value of a node $v$, which (in its unnormalized variant) captures for how many pairs of nodes $x,y$ the shortest path from $x$ to $y$ passes through $v$. This measure is important, because is teaches us something about the role of nodes in information flow. It further captures to what extent removing a node will affect the shortest paths between other nodes. Let us try this in our example:"
   ]
  },
  {
   "cell_type": "code",
   "execution_count": null,
   "metadata": {},
   "outputs": [],
   "source": [
    "pp.algorithms.betweenness_centrality(hon_1)['c']"
   ]
  },
  {
   "cell_type": "markdown",
   "metadata": {},
   "source": [
    "This is easy to understand, as there are four pairs `b-e`, `b-d`, `a-e`, and `a-d` for which the shortest path in the topology passes through node `c`. However, this notion of *importance* of node `c` is based on the assumption that paths are transitive and Markovian, which is not the case in our observed paths. `pathpy` actually allows us to calculate the betweenness of node `c` in the observed paths `paths`."
   ]
  },
  {
   "cell_type": "code",
   "execution_count": null,
   "metadata": {
    "scrolled": true
   },
   "outputs": [],
   "source": [
    "pp.algorithms.betweenness_centrality(paths)['c']"
   ]
  },
  {
   "cell_type": "markdown",
   "metadata": {},
   "source": [
    "Not surprisingly, the betweenness of node $c$ in the actual paths is two, as $c$ only connects two pairs of nodes are connected via a (shortest) path. This change in centrality is captured in the higher-order model and `pathpy` allows us to directly generalize centrality measures to higher orders, simply by calling the functions on the class `HigherOrderNetwork`."
   ]
  },
  {
   "cell_type": "code",
   "execution_count": null,
   "metadata": {
    "scrolled": true
   },
   "outputs": [],
   "source": [
    "pp.algorithms.betweenness_centrality(hon_2)['c']"
   ]
  },
  {
   "cell_type": "markdown",
   "metadata": {},
   "source": [
    "We see that in this example (since we **only** have second-order dependencies) the second-order model accurately captures the betweenness of node $c$. Let us contrast this to the second-order null model."
   ]
  },
  {
   "cell_type": "code",
   "execution_count": null,
   "metadata": {},
   "outputs": [],
   "source": [
    "pp.algorithms.betweenness_centrality(hon_2_null)['c']"
   ]
  },
  {
   "cell_type": "markdown",
   "metadata": {},
   "source": [
    "This is what we expect, since this null model is simply a second-order representation of the first-order model, in which paths are transitive and memoryless."
   ]
  },
  {
   "cell_type": "markdown",
   "metadata": {},
   "source": [
    "## 4.4 Multi-order model selection <a class=\"anchor\" id=\"part-4-4\"></a>\n",
    "\n",
    "So far, we studied higher-order network models for path data with a fixed, given order $k$. We have seen that such higher-order models can yield better predictions compared to standard network models. However, a critical question arises: how can we decide **at which order we should model a given system**? This points to a more general problem as we can also imagine systems for which path statistics do not deviate significantly from the transitive, Markovian assumption made by a first-order model. So we **need methods to decide when higher-order models are actually required**.\n",
    "\n",
    "Moreover, a higher-order model with order $k$ can only capture higher-order dependencies at a single fixed correlation length $k$. But we may encounter data that exhibit multiple correlation lengths at once. How can we **combine models with multiple higher orders into a multi-order model**?"
   ]
  },
  {
   "cell_type": "markdown",
   "metadata": {},
   "source": [
    "To fix the issues above, we need a probabilistic generative model that can deal with extensive collections of (short) paths in a network. The key idea is to combine multiple higher-order network models into a single multi-layered, multi-order model. To calculate the likelihood of such a model, we can use all layers, thus avoiding the problem that we discard prefixes of paths. For each path, we start the calculation at a layer of order zero, which considers the relative probabilities of nodes. We then use this model layer to calculate the probability to observe the first node on a path. For the next transition to step two, we then use a first-order model. The next transition is calculated in the second-order model and so on until we have reached the maximum order of our multi-order model. At this point, we can transitively calculate the likelihood based on the remaining transitions of the path.\n",
    "\n",
    "The method is described in all details in the following paper:\n",
    "\n",
    "I Scholtes: [When is a Network a Network? Multi-Order Graphical Model Selection in Pathways and Temporal Networks](http://dl.acm.org/citation.cfm?id=3098145), In KDD'17 - Proceedings of the 23rd ACM SIGKDD International Conference on Knowledge Discovery and Data Mining, Halifax, Nova Scotia, Canada, August 13-17, 2017\n",
    "\n",
    "But let us go to practice. `pathpy` can directly generate and analyse multi-order network models. Let us try this in our example."
   ]
  },
  {
   "cell_type": "code",
   "execution_count": null,
   "metadata": {
    "scrolled": false
   },
   "outputs": [],
   "source": [
    "mom = pp.MultiOrderModel.from_paths(paths,max_order=2)\n",
    "print(mom)"
   ]
  },
  {
   "cell_type": "markdown",
   "metadata": {},
   "source": [
    "Rather than performing a likelihood test ourselves, we can actually simply call the method `MultiOrderModel.predict`. It will return the maximum order among all of its layers for which the likelihood ratio test rejects the null hypothesis."
   ]
  },
  {
   "cell_type": "code",
   "execution_count": null,
   "metadata": {},
   "outputs": [],
   "source": [
    "mom.predict()"
   ]
  },
  {
   "cell_type": "markdown",
   "metadata": {},
   "source": [
    "We now test whether this approach to **learn the optimal representation of path data** actually works. For this, let us generate path statistics that are in line with what we expect based on a first-order network model, and check whether the order estimation gives the right result."
   ]
  },
  {
   "cell_type": "code",
   "execution_count": null,
   "metadata": {},
   "outputs": [],
   "source": [
    "random = pp.PathCollection()\n",
    "random.add('a','c','d',frequency=5)\n",
    "random.add('a','c','e',frequency=5)\n",
    "random.add('b','c','d',frequency=5)\n",
    "random.add('b','c','e',frequency=5)\n",
    "\n",
    "mom_2 = pp.MultiOrderModel.from_paths(random,max_order=2)\n",
    "mom_2.predict()"
   ]
  },
  {
   "cell_type": "markdown",
   "metadata": {},
   "source": [
    "# 5 Outlook <a class=\"anchor\" id=\"part-5\"></a>\n",
    "\n",
    "5.1 [Hypergraphs](#part-5-1)  \n",
    "5.2 [Milestones](#part-5-2)  \n",
    "5.3 [Your contribution](#part-5-3)  "
   ]
  },
  {
   "cell_type": "markdown",
   "metadata": {},
   "source": [
    "# 5.1 Hypergraphs <a class=\"anchor\" id=\"part-5-1\"></a>"
   ]
  },
  {
   "cell_type": "code",
   "execution_count": null,
   "metadata": {},
   "outputs": [],
   "source": [
    "a = pp.Node('a')\n",
    "b = pp.Node('b')\n",
    "c = pp.Node('c')\n",
    "d = pp.Node('d')\n",
    "\n",
    "e = pp.HyperEdge({a, b}, {c, d}, uid='ab-cd')\n",
    "print(e)"
   ]
  },
  {
   "cell_type": "markdown",
   "metadata": {},
   "source": [
    "# 5.2 Milestones <a class=\"anchor\" id=\"part-5-2\"></a>\n",
    "\n",
    "<div class=\"alert alert-info\">\n",
    "The first Beta version of pathpy is expected to be releast at the end of 2020. \n",
    "</div>\n",
    "\n",
    "- Documentation\n",
    "- Performance\n",
    "- Online tutorials\n",
    "- Visualisations"
   ]
  },
  {
   "cell_type": "markdown",
   "metadata": {},
   "source": [
    "# 5.3 Ways to contribute <a class=\"anchor\" id=\"part-5-3\"></a>"
   ]
  },
  {
   "cell_type": "markdown",
   "metadata": {},
   "source": [
    "There are many ways to contribute to `pathpy`, with the most common ones being contribution of code or documentation to the project. Improving the documentation is no less important than improving the library itself. If you find a typo in the documentation, or have made improvements, do not hesitate to send an email to the mailing list or preferably submit a GitHub pull request.\n",
    "\n",
    "Another way to contribute is to report issues you’re facing, and give a “thumbs up” on issues that others reported and that are relevant to you. It also helps us if you spread the word: reference the project from your blog and articles, link to it from your website, or simply star to say “I use it”:\n",
    "\n",
    "- Submitting a bug report or a feature request\n",
    "- Contributing code\n",
    "- Documentation"
   ]
  }
 ],
 "metadata": {
  "kernelspec": {
   "display_name": "Python 3",
   "language": "python",
   "name": "python3"
  },
  "language_info": {
   "codemirror_mode": {
    "name": "ipython",
    "version": 3
   },
   "file_extension": ".py",
   "mimetype": "text/x-python",
   "name": "python",
   "nbconvert_exporter": "python",
   "pygments_lexer": "ipython3",
   "version": "3.8.5"
  }
 },
 "nbformat": 4,
 "nbformat_minor": 4
}
